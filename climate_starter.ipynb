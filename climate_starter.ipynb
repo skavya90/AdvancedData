{
 "cells": [
  {
   "cell_type": "code",
   "execution_count": 295,
   "metadata": {},
   "outputs": [],
   "source": [
    "%matplotlib inline\n",
    "from matplotlib import style\n",
    "style.use('fivethirtyeight')\n",
    "import matplotlib.pyplot as plt"
   ]
  },
  {
   "cell_type": "code",
   "execution_count": 296,
   "metadata": {},
   "outputs": [],
   "source": [
    "import numpy as np\n",
    "import pandas as pd"
   ]
  },
  {
   "cell_type": "code",
   "execution_count": 297,
   "metadata": {},
   "outputs": [],
   "source": [
    "import datetime as dt"
   ]
  },
  {
   "cell_type": "markdown",
   "metadata": {},
   "source": [
    "# Reflect Tables into SQLAlchemy ORM"
   ]
  },
  {
   "cell_type": "code",
   "execution_count": 298,
   "metadata": {
    "scrolled": true
   },
   "outputs": [],
   "source": [
    "# Python SQL toolkit and Object Relational Mapper\n",
    "import sqlalchemy\n",
    "from sqlalchemy.ext.automap import automap_base\n",
    "from sqlalchemy.orm import Session\n",
    "from sqlalchemy import create_engine, func\n",
    "from sqlalchemy import Column, Integer, String, Float, and_, Date, desc, func"
   ]
  },
  {
   "cell_type": "code",
   "execution_count": 299,
   "metadata": {},
   "outputs": [],
   "source": [
    "#creates engine conn to hawaii sqlite \n",
    "engine = create_engine(\"sqlite:///C:/Users/skavy/Desktop/Bootcamp/AdvancedData/hawaii.sqlite\")"
   ]
  },
  {
   "cell_type": "code",
   "execution_count": 300,
   "metadata": {},
   "outputs": [],
   "source": [
    "# reflects an existing database into a new model\n",
    "Base = automap_base()\n",
    "# reflect the tables\n",
    "Base.prepare(engine, reflect=True)"
   ]
  },
  {
   "cell_type": "code",
   "execution_count": 301,
   "metadata": {},
   "outputs": [
    {
     "data": {
      "text/plain": [
       "['measurement', 'station']"
      ]
     },
     "execution_count": 301,
     "metadata": {},
     "output_type": "execute_result"
    }
   ],
   "source": [
    "# views all of the classes that automap found\n",
    "Base.classes.keys()"
   ]
  },
  {
   "cell_type": "code",
   "execution_count": 302,
   "metadata": {},
   "outputs": [],
   "source": [
    "# Saves references to each table\n",
    "Measurement = Base.classes.measurement\n",
    "Station = Base.classes.station"
   ]
  },
  {
   "cell_type": "code",
   "execution_count": 303,
   "metadata": {},
   "outputs": [],
   "source": [
    "# Create our session (link) from Python to the DB\n",
    "session = Session(engine)"
   ]
  },
  {
   "cell_type": "markdown",
   "metadata": {},
   "source": [
    "# Exploratory Climate Analysis"
   ]
  },
  {
   "cell_type": "code",
   "execution_count": 332,
   "metadata": {
    "scrolled": false
   },
   "outputs": [
    {
     "data": {
      "text/plain": [
       "datetime.datetime(2016, 8, 23, 0, 0)"
      ]
     },
     "execution_count": 332,
     "metadata": {},
     "output_type": "execute_result"
    },
    {
     "data": {
      "image/png": "[encoded data removed]",
      "text/plain": [
       "<Figure size 432x288 with 1 Axes>"
      ]
     },
     "metadata": {},
     "output_type": "display_data"
    }
   ],
   "source": [
    "# query to retrieve the last 12 months of precipitation data and plot the results\n",
    "first_entry=session.query(Measurement.date).order_by(Measurement.date).first().date\n",
    "last_entry=session.query(Measurement.date).order_by(Measurement.date.desc()).first().date\n",
    "\n",
    "# Calculates the date 1 year ago from the last data point in the database\n",
    "last_year = dt.datetime.strptime(last_entry, '%Y-%m-%d') - dt.timedelta(days=365)\n",
    "last_year\n",
    "\n",
    "# query to retrieve the data and precipitation scores\n",
    "p_scores = session.query(Measurement.date, Measurement.prcp).filter(Measurement.date >= last_year).\\\n",
    "    order_by(Measurement.date).all()\n",
    "p_scores\n",
    "# Saves the query results as a Pandas DataFrame and set the index to the date column\n",
    "results = pd.DataFrame(p_scores).dropna()\n",
    "results.set_index('date',inplace=True)\n",
    "\n",
    "# Sorts the dataframe by date\n",
    "results.sort_values(by=['date'])\n",
    "\n",
    "# Plotting with Matplotlib to plot the data\n",
    "results.plot(x_compat=True)\n",
    "plt.xlabel(\"Date\")\n",
    "plt.legend([\"precipitation\"],bbox_to_anchor=(0.60, 1.00))\n",
    "plt.tight_layout()"
   ]
  },
  {
   "cell_type": "markdown",
   "metadata": {},
   "source": [
    "![precipitation](Images/precipitation.png)"
   ]
  },
  {
   "cell_type": "code",
   "execution_count": 305,
   "metadata": {},
   "outputs": [
    {
     "data": {
      "text/html": [
       "<div>\n",
       "<style scoped>\n",
       "    .dataframe tbody tr th:only-of-type {\n",
       "        vertical-align: middle;\n",
       "    }\n",
       "\n",
       "    .dataframe tbody tr th {\n",
       "        vertical-align: top;\n",
       "    }\n",
       "\n",
       "    .dataframe thead th {\n",
       "        text-align: right;\n",
       "    }\n",
       "</style>\n",
       "<table border=\"1\" class=\"dataframe\">\n",
       "  <thead>\n",
       "    <tr style=\"text-align: right;\">\n",
       "      <th></th>\n",
       "      <th>prcp</th>\n",
       "    </tr>\n",
       "  </thead>\n",
       "  <tbody>\n",
       "    <tr>\n",
       "      <th>count</th>\n",
       "      <td>2015.000000</td>\n",
       "    </tr>\n",
       "    <tr>\n",
       "      <th>mean</th>\n",
       "      <td>0.176462</td>\n",
       "    </tr>\n",
       "    <tr>\n",
       "      <th>std</th>\n",
       "      <td>0.460288</td>\n",
       "    </tr>\n",
       "    <tr>\n",
       "      <th>min</th>\n",
       "      <td>0.000000</td>\n",
       "    </tr>\n",
       "    <tr>\n",
       "      <th>25%</th>\n",
       "      <td>0.000000</td>\n",
       "    </tr>\n",
       "    <tr>\n",
       "      <th>50%</th>\n",
       "      <td>0.020000</td>\n",
       "    </tr>\n",
       "    <tr>\n",
       "      <th>75%</th>\n",
       "      <td>0.130000</td>\n",
       "    </tr>\n",
       "    <tr>\n",
       "      <th>max</th>\n",
       "      <td>6.700000</td>\n",
       "    </tr>\n",
       "  </tbody>\n",
       "</table>\n",
       "</div>"
      ],
      "text/plain": [
       "              prcp\n",
       "count  2015.000000\n",
       "mean      0.176462\n",
       "std       0.460288\n",
       "min       0.000000\n",
       "25%       0.000000\n",
       "50%       0.020000\n",
       "75%       0.130000\n",
       "max       6.700000"
      ]
     },
     "execution_count": 305,
     "metadata": {},
     "output_type": "execute_result"
    }
   ],
   "source": [
    "# gets the summary statistics for the precipitation data\n",
    "results.describe()"
   ]
  },
  {
   "cell_type": "markdown",
   "metadata": {},
   "source": [
    "![describe](Images/describe.png)"
   ]
  },
  {
   "cell_type": "code",
   "execution_count": 306,
   "metadata": {},
   "outputs": [
    {
     "data": {
      "text/plain": [
       "9"
      ]
     },
     "execution_count": 306,
     "metadata": {},
     "output_type": "execute_result"
    }
   ],
   "source": [
    "#query to calculate the total number of stations.\n",
    "total_stations = session.query(Measurement.station).group_by(Measurement.station).count()\n",
    "total_stations"
   ]
  },
  {
   "cell_type": "code",
   "execution_count": 307,
   "metadata": {
    "scrolled": true
   },
   "outputs": [
    {
     "data": {
      "text/html": [
       "<div>\n",
       "<style scoped>\n",
       "    .dataframe tbody tr th:only-of-type {\n",
       "        vertical-align: middle;\n",
       "    }\n",
       "\n",
       "    .dataframe tbody tr th {\n",
       "        vertical-align: top;\n",
       "    }\n",
       "\n",
       "    .dataframe thead th {\n",
       "        text-align: right;\n",
       "    }\n",
       "</style>\n",
       "<table border=\"1\" class=\"dataframe\">\n",
       "  <thead>\n",
       "    <tr style=\"text-align: right;\">\n",
       "      <th></th>\n",
       "      <th>Station ID</th>\n",
       "      <th>Observations</th>\n",
       "    </tr>\n",
       "  </thead>\n",
       "  <tbody>\n",
       "    <tr>\n",
       "      <th>0</th>\n",
       "      <td>USC00519281</td>\n",
       "      <td>2772</td>\n",
       "    </tr>\n",
       "    <tr>\n",
       "      <th>1</th>\n",
       "      <td>USC00519397</td>\n",
       "      <td>2724</td>\n",
       "    </tr>\n",
       "    <tr>\n",
       "      <th>2</th>\n",
       "      <td>USC00513117</td>\n",
       "      <td>2709</td>\n",
       "    </tr>\n",
       "    <tr>\n",
       "      <th>3</th>\n",
       "      <td>USC00519523</td>\n",
       "      <td>2669</td>\n",
       "    </tr>\n",
       "    <tr>\n",
       "      <th>4</th>\n",
       "      <td>USC00516128</td>\n",
       "      <td>2612</td>\n",
       "    </tr>\n",
       "    <tr>\n",
       "      <th>5</th>\n",
       "      <td>USC00514830</td>\n",
       "      <td>2202</td>\n",
       "    </tr>\n",
       "    <tr>\n",
       "      <th>6</th>\n",
       "      <td>USC00511918</td>\n",
       "      <td>1979</td>\n",
       "    </tr>\n",
       "    <tr>\n",
       "      <th>7</th>\n",
       "      <td>USC00517948</td>\n",
       "      <td>1372</td>\n",
       "    </tr>\n",
       "    <tr>\n",
       "      <th>8</th>\n",
       "      <td>USC00518838</td>\n",
       "      <td>511</td>\n",
       "    </tr>\n",
       "  </tbody>\n",
       "</table>\n",
       "</div>"
      ],
      "text/plain": [
       "    Station ID  Observations\n",
       "0  USC00519281          2772\n",
       "1  USC00519397          2724\n",
       "2  USC00513117          2709\n",
       "3  USC00519523          2669\n",
       "4  USC00516128          2612\n",
       "5  USC00514830          2202\n",
       "6  USC00511918          1979\n",
       "7  USC00517948          1372\n",
       "8  USC00518838           511"
      ]
     },
     "execution_count": 307,
     "metadata": {},
     "output_type": "execute_result"
    }
   ],
   "source": [
    "# gets most active stations? (i.e. what stations have the most rows)? the counts in descending order.\n",
    "active_stations=pd.DataFrame(session.query(Measurement.station, func.count(Measurement.station)).group_by(Measurement.station).\\\n",
    "                                  order_by (func.count(Measurement.station).desc()).all(),columns=[\"Station ID\",\"Observations\"])\n",
    "\n",
    "active_stations\n"
   ]
  },
  {
   "cell_type": "code",
   "execution_count": 308,
   "metadata": {},
   "outputs": [
    {
     "name": "stdout",
     "output_type": "stream",
     "text": [
      "USC00519281 Station has the highest number of observations.\n"
     ]
    }
   ],
   "source": [
    "#Gets the most active station i.e station with highest tobs\n",
    "most_active_station = session.query(Measurement.station).group_by(Measurement.station).\\\n",
    "                    order_by(func.count(Measurement.station).desc()).limit(1).scalar()\n",
    "print (str(most_active_station) + \" Station has the highest number of observations.\")"
   ]
  },
  {
   "cell_type": "code",
   "execution_count": 309,
   "metadata": {},
   "outputs": [
    {
     "data": {
      "text/plain": [
       "[(54.0, 85.0, 71.66378066378067)]"
      ]
     },
     "execution_count": 309,
     "metadata": {},
     "output_type": "execute_result"
    }
   ],
   "source": [
    "#calculates the lowest temperature ,highest temperature, and average temperature for most active station\n",
    "temp_stats = [func.min(Measurement.tobs),func.max(Measurement.tobs),func.avg(Measurement.tobs)]\n",
    "session.query(*temp_stats).filter(Measurement.station == most_active_station).all()"
   ]
  },
  {
   "cell_type": "code",
   "execution_count": 310,
   "metadata": {},
   "outputs": [
    {
     "data": {
      "image/png": "[encoded data removed]",
      "text/plain": [
       "<Figure size 432x288 with 1 Axes>"
      ]
     },
     "metadata": {},
     "output_type": "display_data"
    }
   ],
   "source": [
    "# Queries the last 12 months of temperature observation data for most active station\n",
    "recent_temp = session.query(Measurement.date,Measurement.tobs).\\\n",
    "filter(and_(Measurement.station==most_active_station,Measurement.date >= last_year)).\\\n",
    "order_by(Measurement.date.desc()).all()\n",
    "df=pd.DataFrame(recent_temp)\n",
    "\n",
    "# plotting the df as a histogram\n",
    "plt.hist(df['tobs'],bins=12,label='tobs')\n",
    "plt.ylabel(\"Frequency\")\n",
    "plt.legend(loc='best')\n",
    "plt.show()"
   ]
  },
  {
   "cell_type": "code",
   "execution_count": 311,
   "metadata": {},
   "outputs": [
    {
     "name": "stdout",
     "output_type": "stream",
     "text": [
      "[(62.0, 69.57142857142857, 74.0)]\n"
     ]
    }
   ],
   "source": [
    "# This function called `calc_temps` will accept start date and end date in the format '%Y-%m-%d' \n",
    "# and return the minimum, average, and maximum temperatures for that range of dates\n",
    "def calc_temps(start_date, end_date):\n",
    "    \"\"\"TMIN, TAVG, and TMAX for a list of dates.\n",
    "    \n",
    "    Args:\n",
    "        start_date (string): A date string in the format %Y-%m-%d\n",
    "        end_date (string): A date string in the format %Y-%m-%d\n",
    "        \n",
    "    Returns:\n",
    "        TMIN, TAVE, and TMAX\n",
    "    \"\"\"\n",
    "    \n",
    "    return session.query(func.min(Measurement.tobs), func.avg(Measurement.tobs), func.max(Measurement.tobs)).\\\n",
    "        filter(Measurement.date >= start_date).filter(Measurement.date <= end_date).all()\n",
    "\n",
    "# function usage example\n",
    "print(calc_temps('2012-02-28', '2012-03-05'))"
   ]
  },
  {
   "cell_type": "code",
   "execution_count": 312,
   "metadata": {},
   "outputs": [
    {
     "name": "stdout",
     "output_type": "stream",
     "text": [
      "[(65.0, 75.12280701754386, 80.0)]\n"
     ]
    }
   ],
   "source": [
    "# calculate the tmin, tavg, and tmax for your trip using the previous year's data for those same dates.\n",
    "trip_startdate = dt.date(2019, 5, 1)\n",
    "trip_enddate = dt.date(2019, 5, 10)\n",
    "prev_year = dt.timedelta(days=365*2)\n",
    "prev_year_stats = (calc_temps((trip_startdate-prev_year), (trip_enddate-prev_year)))\n",
    "print(prev_year_stats)"
   ]
  },
  {
   "cell_type": "code",
   "execution_count": 313,
   "metadata": {
    "scrolled": true
   },
   "outputs": [
    {
     "data": {
      "image/png": "[encoded data removed]",
      "text/plain": [
       "<Figure size 288x360 with 1 Axes>"
      ]
     },
     "metadata": {},
     "output_type": "display_data"
    }
   ],
   "source": [
    "\n",
    "#Creates a dataframe with the calculated tmin, tavg, and tmax values\n",
    "trip_df = pd.DataFrame(prev_year_stats, columns=['TMIN', 'TAVG', 'TMAX'])\n",
    "# Plot the results from your previous query as a bar chart.\n",
    "max = trip_df['TMAX']\n",
    "min = trip_df['TMIN']\n",
    "\n",
    "# Plotting the results from previous query as a bar chart. \n",
    "trip_df.plot.bar(y='TAVG', yerr=(max-min), alpha=0.5, figsize=(4,5))\n",
    "\n",
    "# Using \"Trip Avg Temp\" as Title\n",
    "plt.title(\"Trip Avg Temp\")\n",
    "plt.ylabel(\"Temp (F)\")\n",
    "plt.xticks([])\n",
    "plt.tight_layout()\n",
    "plt.ylim([0, 100])\n",
    "plt.show()\n"
   ]
  },
  {
   "cell_type": "code",
   "execution_count": 314,
   "metadata": {},
   "outputs": [
    {
     "name": "stdout",
     "output_type": "stream",
     "text": [
      "[('USC00519397', 0.26, 'WAIKIKI 717.2, HI US', 21.2716, -157.8168, 3.0), ('USC00516128', 0.25, 'MANOA LYON ARBO 785.2, HI US', 21.3331, -157.8025, 152.4), ('USC00519281', 0.13, 'WAIHEE 837.5, HI US', 21.45167, -157.84888999999998, 32.9), ('USC00513117', 0.07, 'KANEOHE 838.1, HI US', 21.4234, -157.8015, 14.6), ('USC00519523', 0.07, 'WAIMANALO EXPERIMENTAL FARM, HI US', 21.33556, -157.71139, 19.5), ('USC00514830', 0.03, 'KUALOA RANCH HEADQUARTERS 886.9, HI US', 21.5213, -157.8374, 7.0)]\n"
     ]
    }
   ],
   "source": [
    "# Calculates the total amount of rainfall per weather station for your trip dates using the previous year's matching dates in descending order by precipitation amount and list the station, name, latitude, longitude, and elevation\n",
    "def precipitation(start_date, end_date):\n",
    "    rain_stats = [Measurement.station, \n",
    "                  Measurement.prcp,\n",
    "                  Station.name,\n",
    "                  Station.latitude, \n",
    "                  Station.longitude, \n",
    "                  Station.elevation]\n",
    "    \n",
    "    return session.query(*rain_stats).\\\n",
    "            filter(Station.station==Measurement.station).filter(Measurement.date >= start_date).filter(Measurement.date <= end_date).group_by(Measurement.station).order_by(Measurement.prcp.desc()).all()\n",
    "\n",
    "print(precipitation('2017-05-01','2017-05-10'))\n"
   ]
  },
  {
   "cell_type": "markdown",
   "metadata": {},
   "source": [
    "## Optional Challenge Assignment"
   ]
  },
  {
   "cell_type": "code",
   "execution_count": 315,
   "metadata": {},
   "outputs": [
    {
     "data": {
      "text/plain": [
       "[(62.0, 69.15384615384616, 77.0)]"
      ]
     },
     "execution_count": 315,
     "metadata": {},
     "output_type": "execute_result"
    }
   ],
   "source": [
    "# Create a query that will calculate the daily normals \n",
    "# (i.e. the averages for tmin, tmax, and tavg for all historic data matching a specific month and day)\n",
    "\n",
    "def daily_normals(date):\n",
    "    \"\"\"Daily Normals.\n",
    "    \n",
    "    Args:\n",
    "        date (str): A date string in the format '%m-%d'\n",
    "        \n",
    "    Returns:\n",
    "        A list of tuples containing the daily normals, tmin, tavg, and tmax\n",
    "    \n",
    "    \"\"\"\n",
    "    \n",
    "    sel = [func.min(Measurement.tobs), func.avg(Measurement.tobs), func.max(Measurement.tobs)]\n",
    "    return session.query(*sel).filter(func.strftime(\"%m-%d\", Measurement.date) == date).all()\n",
    "    \n",
    "daily_normals(\"01-01\")"
   ]
  },
  {
   "cell_type": "code",
   "execution_count": 316,
   "metadata": {},
   "outputs": [
    {
     "name": "stdout",
     "output_type": "stream",
     "text": [
      "[{'Date': datetime.date(2019, 5, 1), 'tmin': 65.0, 'tmax': 79.0, 'tavg': 72.75925925925925}, {'Date': datetime.date(2019, 5, 2), 'tmin': 65.0, 'tmax': 79.0, 'tavg': 73.05084745762711}, {'Date': datetime.date(2019, 5, 3), 'tmin': 67.0, 'tmax': 84.0, 'tavg': 73.41071428571429}, {'Date': datetime.date(2019, 5, 4), 'tmin': 65.0, 'tmax': 78.0, 'tavg': 73.59649122807018}, {'Date': datetime.date(2019, 5, 5), 'tmin': 67.0, 'tmax': 79.0, 'tavg': 73.39655172413794}, {'Date': datetime.date(2019, 5, 6), 'tmin': 66.0, 'tmax': 80.0, 'tavg': 73.14035087719299}, {'Date': datetime.date(2019, 5, 7), 'tmin': 64.0, 'tmax': 79.0, 'tavg': 71.78846153846153}, {'Date': datetime.date(2019, 5, 8), 'tmin': 65.0, 'tmax': 80.0, 'tavg': 72.18867924528301}, {'Date': datetime.date(2019, 5, 9), 'tmin': 67.0, 'tmax': 79.0, 'tavg': 72.9322033898305}, {'Date': datetime.date(2019, 5, 10), 'tmin': 64.0, 'tmax': 78.0, 'tavg': 73.3157894736842}]\n"
     ]
    }
   ],
   "source": [
    "# calculate the daily normals for your trip\n",
    "\n",
    "# Set the start and end date of the trip\n",
    "def daily_normals(date):\n",
    "    month = date.strftime('%m')\n",
    "    day = date.strftime('%d')\n",
    "    \n",
    "    # gets the maximum temperature\n",
    "    max_temp = session.query(func.max(Measurement.tobs)).filter(Measurement.date.like(\"%%%%-\"+ month + \"-\" + day)).all()\n",
    "    t_max = max_temp[0][0]\n",
    "    \n",
    "    # gets the minimum temperature\n",
    "    min_temp = session.query(func.min(Measurement.tobs)).filter(Measurement.date.like(\"%%%%-\"+ month + \"-\" + day)).all()\n",
    "    t_min = min_temp[0][0]\n",
    "    \n",
    "    # gets the average temperature\n",
    "    avg_temp = session.query(func.avg(Measurement.tobs)).filter(Measurement.date.like(\"%%%%-\"+ month + \"-\" + day)).all()\n",
    "    t_avg = avg_temp[0][0]\n",
    "    \n",
    "    return t_min,t_max,t_avg\n",
    "\n",
    "# get the range of dates for the chart\n",
    "start = trip_startdate\n",
    "day_incr = dt.timedelta(days=1)\n",
    "day_range = []\n",
    "while start <= trip_enddate:\n",
    "    day_range.append(start)\n",
    "    start += day_incr\n",
    "\n",
    "# get the max/min/avg of each day\n",
    "temps = []\n",
    "day_data = {}\n",
    "\n",
    "# get the max/min/avg for each day using a for loop, store in dict\n",
    "for date in day_range:\n",
    "    min,max,avg = daily_normals(date)\n",
    "    temps.append({\"Date\": date,\"tmin\": min,\"tmax\": max, \"tavg\":avg})\n",
    "print(temps)"
   ]
  },
  {
   "cell_type": "code",
   "execution_count": 317,
   "metadata": {
    "scrolled": true
   },
   "outputs": [
    {
     "data": {
      "text/html": [
       "<div>\n",
       "<style scoped>\n",
       "    .dataframe tbody tr th:only-of-type {\n",
       "        vertical-align: middle;\n",
       "    }\n",
       "\n",
       "    .dataframe tbody tr th {\n",
       "        vertical-align: top;\n",
       "    }\n",
       "\n",
       "    .dataframe thead th {\n",
       "        text-align: right;\n",
       "    }\n",
       "</style>\n",
       "<table border=\"1\" class=\"dataframe\">\n",
       "  <thead>\n",
       "    <tr style=\"text-align: right;\">\n",
       "      <th></th>\n",
       "      <th>Date</th>\n",
       "      <th>tmin</th>\n",
       "      <th>tavg</th>\n",
       "      <th>tmax</th>\n",
       "    </tr>\n",
       "  </thead>\n",
       "  <tbody>\n",
       "    <tr>\n",
       "      <th>0</th>\n",
       "      <td>2019-05-01</td>\n",
       "      <td>65.0</td>\n",
       "      <td>72.759259</td>\n",
       "      <td>79.0</td>\n",
       "    </tr>\n",
       "    <tr>\n",
       "      <th>1</th>\n",
       "      <td>2019-05-02</td>\n",
       "      <td>65.0</td>\n",
       "      <td>73.050847</td>\n",
       "      <td>79.0</td>\n",
       "    </tr>\n",
       "    <tr>\n",
       "      <th>2</th>\n",
       "      <td>2019-05-03</td>\n",
       "      <td>67.0</td>\n",
       "      <td>73.410714</td>\n",
       "      <td>84.0</td>\n",
       "    </tr>\n",
       "    <tr>\n",
       "      <th>3</th>\n",
       "      <td>2019-05-04</td>\n",
       "      <td>65.0</td>\n",
       "      <td>73.596491</td>\n",
       "      <td>78.0</td>\n",
       "    </tr>\n",
       "    <tr>\n",
       "      <th>4</th>\n",
       "      <td>2019-05-05</td>\n",
       "      <td>67.0</td>\n",
       "      <td>73.396552</td>\n",
       "      <td>79.0</td>\n",
       "    </tr>\n",
       "    <tr>\n",
       "      <th>5</th>\n",
       "      <td>2019-05-06</td>\n",
       "      <td>66.0</td>\n",
       "      <td>73.140351</td>\n",
       "      <td>80.0</td>\n",
       "    </tr>\n",
       "    <tr>\n",
       "      <th>6</th>\n",
       "      <td>2019-05-07</td>\n",
       "      <td>64.0</td>\n",
       "      <td>71.788462</td>\n",
       "      <td>79.0</td>\n",
       "    </tr>\n",
       "    <tr>\n",
       "      <th>7</th>\n",
       "      <td>2019-05-08</td>\n",
       "      <td>65.0</td>\n",
       "      <td>72.188679</td>\n",
       "      <td>80.0</td>\n",
       "    </tr>\n",
       "    <tr>\n",
       "      <th>8</th>\n",
       "      <td>2019-05-09</td>\n",
       "      <td>67.0</td>\n",
       "      <td>72.932203</td>\n",
       "      <td>79.0</td>\n",
       "    </tr>\n",
       "    <tr>\n",
       "      <th>9</th>\n",
       "      <td>2019-05-10</td>\n",
       "      <td>64.0</td>\n",
       "      <td>73.315789</td>\n",
       "      <td>78.0</td>\n",
       "    </tr>\n",
       "  </tbody>\n",
       "</table>\n",
       "</div>"
      ],
      "text/plain": [
       "         Date  tmin       tavg  tmax\n",
       "0  2019-05-01  65.0  72.759259  79.0\n",
       "1  2019-05-02  65.0  73.050847  79.0\n",
       "2  2019-05-03  67.0  73.410714  84.0\n",
       "3  2019-05-04  65.0  73.596491  78.0\n",
       "4  2019-05-05  67.0  73.396552  79.0\n",
       "5  2019-05-06  66.0  73.140351  80.0\n",
       "6  2019-05-07  64.0  71.788462  79.0\n",
       "7  2019-05-08  65.0  72.188679  80.0\n",
       "8  2019-05-09  67.0  72.932203  79.0\n",
       "9  2019-05-10  64.0  73.315789  78.0"
      ]
     },
     "execution_count": 317,
     "metadata": {},
     "output_type": "execute_result"
    }
   ],
   "source": [
    "# Load the previous query results into a Pandas DataFrame and add the `trip_dates` range as the `date` index\n",
    "daily_normals= pd.DataFrame(temps,columns=['Date','tmin', 'tavg', 'tmax'])\n",
    "daily_normals"
   ]
  },
  {
   "cell_type": "code",
   "execution_count": 322,
   "metadata": {
    "scrolled": true
   },
   "outputs": [
    {
     "data": {
      "image/png": "[encoded data removed]",
      "text/plain": [
       "<Figure size 432x288 with 1 Axes>"
      ]
     },
     "metadata": {},
     "output_type": "display_data"
    }
   ],
   "source": [
    "# Plots the daily normals as an area plot with `stacked=False`\n",
    "ax=daily_normals.plot(kind='area', alpha=0.2, stacked=False)\n",
    "#labelling x & y Axes\n",
    "plt.xlabel(\"Dates\")\n",
    "plt.ylabel(\"Temp\")\n",
    "#setting ticks\n",
    "ax.set_xticks(range(len(daily_normals)))\n",
    "ax.set_xticklabels(daily_normals[\"Date\"],rotation = 75)\n",
    "plt.tight_layout()\n",
    "plt.show()"
   ]
  },
  {
   "cell_type": "code",
   "execution_count": null,
   "metadata": {},
   "outputs": [],
   "source": []
  }
 ],
 "metadata": {
  "kernel_info": {
   "name": "python3"
  },
  "kernelspec": {
   "display_name": "Python 3",
   "language": "python",
   "name": "python3"
  },
  "language_info": {
   "codemirror_mode": {
    "name": "ipython",
    "version": 3
   },
   "file_extension": ".py",
   "mimetype": "text/x-python",
   "name": "python",
   "nbconvert_exporter": "python",
   "pygments_lexer": "ipython3",
   "version": "3.7.1"
  },
  "nteract": {
   "version": "0.12.3"
  },
  "varInspector": {
   "cols": {
    "lenName": 16,
    "lenType": 16,
    "lenVar": 40
   },
   "kernels_config": {
    "python": {
     "delete_cmd_postfix": "",
     "delete_cmd_prefix": "del ",
     "library": "var_list.py",
     "varRefreshCmd": "print(var_dic_list())"
    },
    "r": {
     "delete_cmd_postfix": ") ",
     "delete_cmd_prefix": "rm(",
     "library": "var_list.r",
     "varRefreshCmd": "cat(var_dic_list()) "
    }
   },
   "types_to_exclude": [
    "module",
    "function",
    "builtin_function_or_method",
    "instance",
    "_Feature"
   ],
   "window_display": false
  }
 },
 "nbformat": 4,
 "nbformat_minor": 2
}
